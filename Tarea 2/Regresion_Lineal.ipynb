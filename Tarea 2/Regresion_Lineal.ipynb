{
 "cells": [
  {
   "cell_type": "markdown",
   "id": "artificial-series",
   "metadata": {},
   "source": [
    "# Regresión Lineal\n",
    "\n",
    "## 1. Introducción\n",
    "La Regresión Lineal es una de las herramientas fundamentales del análisis estadístico y econométrico que se utiliza en la actualidad. Este modelo permite relacionar de manera lineal una variable dependiente (Y) con un conjunto de variables explicativas (X), con el objetivo de predecir el valor promedio de la variable dependiente Y a partir de valores conocidos de X (Gujarati, D., & Porter, D., 1999).\n",
    "\n",
    "A lo largo de este documento se presentará formalmente el modelo de regresión lineal, y se ilustrará su aplicación con un conjunto de datos real.\n",
    "\n",
    "Este notebook está organizado de la siguiente forma: la segunda sección presentará una breve historia del modelo de regresión lineal como modelo predictivo, seguido de una presentación formal del modelo en la tercera sección. La cuarta sección realizará una aplicación de la regresión a un conjunto de datos de precios de vivienda y la quinta sección concluye."
   ]
  },
  {
   "cell_type": "markdown",
   "id": "informed-belly",
   "metadata": {},
   "source": [
    "## 2. Historia de la Regresión Lineal"
   ]
  },
  {
   "cell_type": "markdown",
   "id": "verbal-stage",
   "metadata": {},
   "source": [
    "## 3. Planteamiento del Modelo\n",
    "\n",
    "Hasta este momento se ha mencionado que el modelo de regresión lineal permite encontrar la relación lineal entre una variable dependiente ($Y$) y una variable o un conjunto de variables explicativas ($X$). En esta sección se discutirá la forma funcional del modelo, su estimación y su utilización como modelo de predicción. \n",
    "\n",
    "Para comenzar, asuma que un modelador tiene una variable de interés $y_i$ que es medida para N individuos de una población, de forma que $i = 1, 2, \\dots, N$. Adicional a este, el modelador cuenta con información adicional  de los individuos, $x_i$, que está relacionada con la variable de interés.  Cuando el modelador grafica sus datos utilizando un diagrama de dispersión, observa lo siguiente: \n",
    "aijsaks\n",
    "![](imgs/scatter_simple.png)\n"
   ]
  },
  {
   "cell_type": "markdown",
   "id": "stylish-content",
   "metadata": {},
   "source": [
    "\n",
    "A continuación se construirá una clase que permite estimar un modelo de regresión y utilizarlo para hacer predicción sobre un conjunto de datos."
   ]
  },
  {
   "cell_type": "code",
   "execution_count": null,
   "id": "interior-trading",
   "metadata": {},
   "outputs": [],
   "source": [
    "import numpy as np\n",
    "\n",
    "class LinearRegression:\n",
    "\n",
    "    def __init__(self, covariates, target):\n",
    "        self.covariates = covariates\n",
    "        self.target = target\n",
    "\n",
    "        self.design_matrix = self.__build_design_matrix(self.covariates)\n",
    "        self.coefficients = self.fit()\n",
    "\n",
    "\n",
    "    def __build_design_matrix(self, raw_input):\n",
    "        \"\"\"\n",
    "        Construye la matriz de diseño añadiendo una columna de unos. \n",
    "\n",
    "        Params\n",
    "        --------\n",
    "          raw_input (np.ndarray):\n",
    "            Un arreglo de numpy de dimensión NxK que se le desea agregar una columna \n",
    "            de unos.\n",
    "\n",
    "        Returns\n",
    "        --------\n",
    "          design_matrix (np.ndarray):\n",
    "            Un arreglo de numpy de dimensión Nx(K+1) que contiene una columna de unos \n",
    "            en la primera posición.\n",
    "        \"\"\"\n",
    "        data_shape = raw_input.shape\n",
    "        ones = np.ones(data_shape[0]).reshape(-1, 1)\n",
    "        design_matrix = np.append(ones, raw_input, axis = 1)\n",
    "        return design_matrix\n",
    "\n",
    "    def fit(self):\n",
    "        \"\"\"\n",
    "        Realiza la estimación de los coeficientes de una regresión lineal.\n",
    "        Bhat = (X'X)^{-1} X'Y\n",
    "        \"\"\"\n",
    "        XTX = np.dot(self.design_matrix.T, self.design_matrix)\n",
    "        inv_XTX = np.linalg.inv(XTX)\n",
    "        XTY = np.dot(self.design_matrix.T, self.target)\n",
    "        b_hat = np.dot(inv_XTX, XTY)\n",
    "        return b_hat \n",
    "\n",
    "\n",
    "    def predict(self, data):\n",
    "        \"\"\"\n",
    "        Realiza la predicción sobre un conjunto de datos.\n",
    "\n",
    "        Params\n",
    "        -------\n",
    "          data (np.ndarray):\n",
    "            Un arreglo de numpy que contiene información de las covariables del modelo\n",
    "\n",
    "        Returns\n",
    "        -------\n",
    "          yhat (np.ndarray):\n",
    "            Un arreglo de numpy que contiene las predicciones\n",
    "        \"\"\"\n",
    "        X = self.__build_design_matrix(data)\n",
    "        y_hat = np.dot(X, self.coefficients)\n",
    "        return y_hat"
   ]
  },
  {
   "cell_type": "markdown",
   "id": "combined-pregnancy",
   "metadata": {},
   "source": [
    "# 4. Aplicación a Precios de Vivienda\n",
    "\n",
    "En esta sección se ilustrará el análisis de regresión utilizando datos del precio de vivienda en Boston. El objetivo es hacer un modelo que permita predecir el valor promedio de un apartamento que pertenezca a esa ciudad. Para llevar esta tarea a cabo, se utilizarán datos los datos de una competencia de Kaggle [link](https://www.kaggle.com/c/boston-housing/data) o directamente desde los Datasets de Sci-Kit Learn. Por cuestiones de replicación utilizaremos la segunda fuente.\n",
    "\n",
    "Para ello se comienza con importar el módulo de datasets de la librería *sci-kit learn*. "
   ]
  },
  {
   "cell_type": "code",
   "execution_count": null,
   "id": "coordinate-least",
   "metadata": {},
   "outputs": [],
   "source": [
    "from sklearn import datasets\n",
    "precios_vivienda = datasets.load_boston()\n",
    "\n",
    "print(precios_vivienda.keys())"
   ]
  },
  {
   "cell_type": "markdown",
   "id": "attempted-knock",
   "metadata": {},
   "source": [
    "La celda anterior muestra que la variable *precios_vivienda* corresponde a un diccionario que contiene los datos explicativos en data y  la variable objetivo en target. Adicionalmente, se puede observar que se tiene información de 13 características para 506 apartamentos de Boston."
   ]
  },
  {
   "cell_type": "code",
   "execution_count": null,
   "id": "danish-setup",
   "metadata": {},
   "outputs": [],
   "source": [
    "N, k = precios_vivienda.data.shape\n",
    "print(f'Cantidad de Apartamentos: {N}\\nCantidad de Características: {k}')"
   ]
  },
  {
   "cell_type": "markdown",
   "id": "intense-vacation",
   "metadata": {},
   "source": [
    "Las variables que contiene este dataset son, en orden:\n",
    "\n",
    "- **CRIM:**     Tasa de criminalidad per-cátida\n",
    "- **ZN:**       Proporción de predios que superan los 25,000 sq.ft.\n",
    "- **INDUS:**    Proporción de negocios que no son de retail\n",
    "- **CHAS:**     Variable Dummy del Río Charles\n",
    "- **NOX:**      Concentración de Óxio de Nitrógino (partes por 10 millones)\n",
    "- **RM:**       Número promedio de habitaciones\n",
    "- **AGE:**      Proporción de viviendas construídas antes de 1940\n",
    "- **DIS:**      Distancia ponderada a principales centros de trabajo\n",
    "- **RAD:**      Índice de Accesibilidad a autopistas radiales\n",
    "- **TAX:**      Razón de Impuesto por cada 10.000\n",
    "- **PTRATIO:**  Cantidad de estudiantes por profesor en la ciudad\n",
    "- **B:**        $1000(Bk - 0.63)^2$ donde Bk es la proporción de personas de color en el pueblo\n",
    "- **LSTAT:**    % de Población de Estratos Bajos\n",
    "- **MEDV:**     Median value of owner-occupied homes in $1000's\n",
    "\n",
    "Estas pueden ser consultadas corriendo la siguiente sentencia: \n",
    "```python\n",
    "print(precios_vivienda.DESCR)\n",
    "```\n",
    "\n",
    "En principio todas estas variables pueden considerarse relevantes para el modelo, y la inclusión o exclusión de estas se debe hacer utilizando un análisis exploratorio de los datos, junto con criterio experto. Sin embargo, como el objetivo es únicamente ilustrar la utilización de un modelo de regresión lineal, escogeremos tres variables cuyo efecto seguramente es significativo en la determinación del precio de la vivienda. A saber, \n",
    "- CRIM\n",
    "- RM\n",
    "- DIS\n",
    "\n",
    "Antes de plantear el modelo, se revisará si las relaciones existentes entre los precios de la vivienda y las tres variables explicativas son aproximadamente lineales. Para ello se utilizará un diagrama de dispersión. "
   ]
  },
  {
   "cell_type": "code",
   "execution_count": null,
   "id": "pretty-finder",
   "metadata": {},
   "outputs": [],
   "source": [
    "import matplotlib.pyplot as plt"
   ]
  },
  {
   "cell_type": "code",
   "execution_count": null,
   "id": "australian-grain",
   "metadata": {},
   "outputs": [],
   "source": [
    "X = precios_vivienda.data[:, (0, 5, 7)]\n",
    "y = precios_vivienda.target"
   ]
  },
  {
   "cell_type": "code",
   "execution_count": null,
   "id": "terminal-carnival",
   "metadata": {},
   "outputs": [],
   "source": [
    "fig, axs = plt.subplots(3, 1, figsize=(10,10))\n",
    "axs[0].scatter(x = X[:, 0], y = y)\n",
    "axs[1].scatter(x = X[:, 1], y = y)\n",
    "axs[2].scatter(x = X[:, 2], y = y)\n",
    "\n",
    "axs[0].set_xlabel('Tasa de Criminalidad')\n",
    "axs[1].set_xlabel('Número de Habitaciones')\n",
    "axs[2].set_xlabel('Distancia a Centros de Trabajo')\n",
    "\n",
    "axs[0].set_ylabel('Precio de Medio de Vivienda')\n",
    "axs[1].set_ylabel('Precio de Medio de Vivienda')\n",
    "axs[2].set_ylabel('Precio de Medio de Vivienda')\n",
    "\n",
    "plt.show()"
   ]
  },
  {
   "cell_type": "markdown",
   "id": "acknowledged-selection",
   "metadata": {},
   "source": [
    "Del gráfico anterior se puede observar que los precios de vivienda tienen una relación lineal clara con el número de habitaciones de las viviendas. De esta forma, un mayor número de habitaciones disponibles en la vivienda trae consigo un mayor valor. \n",
    "\n",
    "De manera similar se encuentra que la relación entre el precio de vivienda y la tasa de criminalidad es aproximadamente lineal. Es importante resaltar que las zonas que tienen tasa de criminalidad cercana a cero, tienen todos los rangos de precios. \n",
    "\n",
    "Finalmente, se puede observar que la relación entre la distancia a los centros de trabajo y el precio de la vivienda no parece ser lineal sino mas bien logarítimica. Por esta razón, se realiza nuevamente el gráfico pero con esta variable transformada."
   ]
  },
  {
   "cell_type": "code",
   "execution_count": null,
   "id": "racial-terror",
   "metadata": {},
   "outputs": [],
   "source": [
    "X[:, 2] = np.log(X[:, 2])"
   ]
  },
  {
   "cell_type": "code",
   "execution_count": null,
   "id": "demonstrated-popularity",
   "metadata": {},
   "outputs": [],
   "source": [
    "fig = plt.figure(figsize=(10,3))\n",
    "plt.scatter(x = X[:, 2], y = y)\n",
    "plt.xlabel('Logaritmo de la Distancia a Centros de Trabajo')\n",
    "plt.ylabel('Precio de Medio de Vivienda')\n",
    "plt.show()"
   ]
  },
  {
   "cell_type": "markdown",
   "id": "impossible-atlantic",
   "metadata": {},
   "source": [
    "Con base a lo anterior, se plantea el siguiente modelo de regresión para la predicción de precios de vivienda. \n",
    "$$precio_i = \\beta_0 + \\beta_1 CRIM_i + \\beta_2 RM_i + \\beta_3 log(DIS_i) + \\varepsilon_i$$\n",
    "\n",
    "donde $precio_i$ es el precio de la $i$-ésima vivienda en Boston, $CRIM_i$ es la tasa de criminalidad per-cátipa al rededor de esta vivienda, $RM_i$ es la cantidad de habitaciones con la que cuenta la vivienda, y $log(DIS_i)$ es el logaritmo de la distancia entre la vivienda y los principales centros de trabajo de Boston. $\\varepsilon_i$ es el término de perturbación.\n",
    "\n",
    "Del total de la muestra se tomará el 80% de las observaciones al azar para utilizarlas como base de entrenamiento. El 20% restante será utilizado como base de prueba para determinar la capacidad predictiva del modelo. \n"
   ]
  },
  {
   "cell_type": "code",
   "execution_count": null,
   "id": "efficient-entrance",
   "metadata": {},
   "outputs": [],
   "source": [
    "from sklearn.model_selection import train_test_split\n",
    "X_train, X_test, y_train, y_test = train_test_split(X, y, test_size=0.2, random_state=42)"
   ]
  },
  {
   "cell_type": "markdown",
   "id": "amazing-guest",
   "metadata": {},
   "source": [
    "A continuación utilizaremos la clase **LinearRegression** que se construyó anteriormente. Al instanciar la clase con los datos de entrenamiento, se estimará el modelo de regresión determinando los coeficientes para cada una de las variables escogidas."
   ]
  },
  {
   "cell_type": "code",
   "execution_count": null,
   "id": "central-edmonton",
   "metadata": {},
   "outputs": [],
   "source": [
    "model = LinearRegression(X_train, y_train)\n",
    "model.coefficients"
   ]
  },
  {
   "cell_type": "markdown",
   "id": "polyphonic-kuwait",
   "metadata": {},
   "source": [
    "Lo anterior indica que el modelo estimado para realizar la predicción de los precios de vivienda corresponde a\n",
    "\n",
    "$$\\widehat{precio}_i = -31.18 + -0.26 CRIM_i + 8.69 RM_i + 0.00301 log(DIS_i)$$\n",
    "\n",
    "A continuación, se utilizará este modelo para predecir el precio de las viviendas que están en la base de prueba. Posteriormente se realizará un análisis de la predicción para conocer el desempeño del modelo."
   ]
  },
  {
   "cell_type": "code",
   "execution_count": null,
   "id": "remarkable-despite",
   "metadata": {},
   "outputs": [],
   "source": [
    "y_hat = model.predict(X_test)"
   ]
  },
  {
   "cell_type": "markdown",
   "id": "adaptive-holder",
   "metadata": {},
   "source": [
    "El siguiente gráfico presenta un diagrama de dispersión entre los verdaderos precios de vivienda para las unidades de prueba, y la predicción del modelo. Entre más cerca estén los puntos a la línea negra, mejor es la calidad de la predicción, pues se parecen más al dato de verdad. "
   ]
  },
  {
   "cell_type": "code",
   "execution_count": null,
   "id": "spread-mailing",
   "metadata": {},
   "outputs": [],
   "source": [
    "fig = plt.figure(figsize=(10,3))\n",
    "plt.scatter(x = y_hat, y = y_test)\n",
    "\n",
    "plt.plot((0, 50), (0, 50), color = 'k')\n",
    "\n",
    "\n",
    "plt.xlabel('Predicciones')\n",
    "plt.ylabel('Valor Real')\n",
    "plt.show()"
   ]
  },
  {
   "cell_type": "markdown",
   "id": "marked-reporter",
   "metadata": {},
   "source": [
    "Se puede observar que el modelo logra capturar el fenómeno y es capaz de predecir relativamente bien los precios de vivienda de la mayoría de las unidades. Sin embargo, debido a su forma funcional, el modelo es capaz de hacer predicciones de precio negativa, exhibiendo así una debilidad importante. \n",
    "\n",
    "A continuación, se resume el resultado del modelo utilizando el error cuadrático medio (MSE). Esta cantidad viene dada por\n",
    "\n",
    "$$MSE = \\frac{1}{N} \\sum_{i = 1}^N (y_i - \\hat{y}_i)^2.$$\n"
   ]
  },
  {
   "cell_type": "code",
   "execution_count": null,
   "id": "advisory-compression",
   "metadata": {},
   "outputs": [],
   "source": [
    "def MSE(y_true, y_pred):\n",
    "    N = y_true.shape[0]\n",
    "    diff = (y_true - y_pred)**2\n",
    "    ssr = diff.sum()\n",
    "    return ssr/N\n",
    "\n",
    "MSE(y_test, y_hat)"
   ]
  },
  {
   "cell_type": "markdown",
   "id": "patent-consideration",
   "metadata": {},
   "source": [
    "Con el MSE se puede determinar la variabilidad del modelo y determinar qué tan cercanas son sus predicciones a los valores de verdad. El MSE es útil para comparar diferentes modelos que quieran predecir la misma variable. De esta forma, si se tiene otro candidato de modelo cuyo MSE es inferior, se preferirá el segundo frente el aquí desarrollado."
   ]
  },
  {
   "cell_type": "markdown",
   "id": "controlled-knock",
   "metadata": {},
   "source": [
    "## 5. Conclusiones"
   ]
  },
  {
   "cell_type": "markdown",
   "id": "declared-charlotte",
   "metadata": {},
   "source": [
    "## 6. Referencias\n",
    "\n",
    "Gujarati, D. N., & Porter, D. C. (1999). *Essentials of econometrics (Vol. 2)*. Singapore: Irwin/McGraw-Hill."
   ]
  },
  {
   "cell_type": "code",
   "execution_count": null,
   "id": "unique-token",
   "metadata": {},
   "outputs": [],
   "source": []
  }
 ],
 "metadata": {
  "kernelspec": {
   "display_name": "Python 3",
   "language": "python",
   "name": "python3"
  },
  "language_info": {
   "codemirror_mode": {
    "name": "ipython",
    "version": 3
   },
   "file_extension": ".py",
   "mimetype": "text/x-python",
   "name": "python",
   "nbconvert_exporter": "python",
   "pygments_lexer": "ipython3",
   "version": "3.8.5"
  }
 },
 "nbformat": 4,
 "nbformat_minor": 5
}

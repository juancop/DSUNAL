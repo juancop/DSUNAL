{
 "cells": [
  {
   "cell_type": "markdown",
   "id": "desirable-zambia",
   "metadata": {},
   "source": [
    "# Regresión Lineal\n",
    "\n",
    "## 1. Introducción\n",
    "La Regresión Lineal es una de las herramientas fundamentales del análisis estadístico y econométrico que se utiliza en la actualidad. Este modelo permite relacionar de manera lineal una variable dependiente (Y) con un conjunto de variables explicativas (X), con el objetivo de predecir el valor promedio de la variable dependiente Y a partir de valores conocidos de X (Gujarati, D., & Porter, D., 1999).\n",
    "\n",
    "A lo largo de este documento se presentará formalmente el modelo de regresión lineal, y se ilustrará su aplicación con un conjunto de datos real.\n",
    "\n",
    "Este notebook está organizado de la siguiente forma: la segunda sección presentará una breve historia del modelo de regresión lineal como modelo predictivo, seguido de una presentación formal del modelo en la tercera sección. La cuarta sección realizará una aplicación de la regresión a un conjunto de datos de precios de vivienda y la quinta sección concluye."
   ]
  },
  {
   "cell_type": "markdown",
   "id": "dominican-shell",
   "metadata": {},
   "source": [
    "## 2. Historia de la Regresión Lineal"
   ]
  },
  {
   "cell_type": "markdown",
   "id": "floppy-oxide",
   "metadata": {},
   "source": [
    "## 3. Planteamiento del Modelo\n",
    "\n",
    "Hasta este momento se ha mencionado que el modelo de regresión lineal permite encontrar la relación lineal entre una variable dependiente ($Y$) y una variable o un conjunto de variables explicativas ($X$). En esta sección se discutirá la forma funcional del modelo, su estimación y su utilización como modelo de predicción. \n",
    "\n",
    "Para comenzar, asuma que un modelador tiene una variable de interés $y_i$ que es medida para N individuos de una población, de forma que $i = 1, 2, \\dots, N$. Adicional a este, el modelador cuenta con información adicional  de los individuos, $x_i$, que está relacionada con la variable de interés.  Cuando el modelador grafica sus datos utilizando un diagrama de dispersión, obtiene lo siguiente:\n",
    "\n",
    "![](imgs/scatter_simple.png)\n",
    "\n",
    "El modelador se da cuenta que hay una tendencia: valores más grandes de la variable $X$ están relacionados con valores más grandes de la variable $Y$. Adicionalmente, se da cuenta que este patrón parece ser constante; es decir, por un mismo aumento en $X$, la variable $Y$ aumenta la misma cantidad (en promedio). Teniendo en cuenta lo anterior, el modelador considera que se puede ajustar una línea recta que atraviese estos puntos. La ecuación que describiría este tipo de modelos vendría dada por la ecuación de la recta, \n",
    "\n",
    "$$y_i = \\beta_0 + \\beta_1 x_i + \\varepsilon_i$$\n",
    "\n",
    "donde $\\beta_0$ es el intercepto de la recta y $\\beta_1$ es su pendiente. Sin embargo, existen muchos coeficientes $\\beta_0$ y $\\beta_1$ que permitan trazar una recta que pase por estos puntos. A continuación se muestran dos ejemplos de posibles rectas. \n",
    "\n",
    "\n",
    "![](imgs/examples_of_lines.png)\n",
    "\n",
    "Se puede observar que ambas rectas presentan un comportamiento similar, y se puede argumentar que ambas ecuaciones (o ambos modelos) recogen adecuadamente el comportamiento de los datos. Por lo anterior, es necesario definir un criterio bajo el cual determinar el modelo más adecuado. \n",
    "\n",
    "En principio, uno de los criterios más utilizados es que la ecuación de la recta de regresión sea aquella que minimice una medición de total de error. En particular, si se define la suma de errores de un modelo como,\n",
    "\n",
    "$$S = \\sum_{i = 1}^{N} (y_i - \\beta_0 - \\beta_1 x_i)^2$$\n",
    "\n",
    "entonces se debe encontrar las cantidades $\\beta_0$ y $\\beta_1$ que la minimice. \n",
    "\n",
    "Si este problema se reescribe matricialmente como, \n",
    "\n",
    "$$Y = \\begin{bmatrix}\n",
    "y_1\\\\\n",
    "y_2 \\\\\n",
    "\\vdots \\\\\n",
    "y_n\n",
    "\\end{bmatrix} \\qquad\n",
    "X = \\begin{bmatrix}\n",
    "1& x_1\\\\\n",
    "1 & x_2 \\\\\n",
    "\\vdots & \\vdots \\\\\n",
    "1 & x_n\n",
    "\\end{bmatrix} \\qquad\n",
    "\\beta = \\begin{bmatrix}\n",
    "\\beta_0\\\\\n",
    "\\beta_1\n",
    "\\end{bmatrix} \\qquad\n",
    "e = \\begin{bmatrix}\n",
    "\\varepsilon_1\\\\\n",
    "\\varepsilon_2 \\\\\n",
    "\\vdots \\\\\n",
    "\\varepsilon_n\n",
    "\\end{bmatrix}$$\n",
    "\n",
    "entonces el modelo podría reescribirse como, \n",
    "$$Y = X\\beta + e$$\n",
    "\n",
    "y la cantidad a minimizar es, \n",
    "\n",
    "$$S = (Y - X\\beta)'(Y _ X\\beta)$$\n",
    "\n",
    "El valor de $\\beta$ que minimiza $S$ se obtiene a partir de la siguiente ecuación, \n",
    "\n",
    "$$\\hat{\\beta} = (X'X)^{-1} X'Y.$$\n",
    "\n"
   ]
  },
  {
   "cell_type": "markdown",
   "id": "novel-range",
   "metadata": {},
   "source": [
    "\n",
    "A continuación se construirá una clase que permite estimar un modelo de regresión y utilizarlo para hacer predicción sobre un conjunto de datos."
   ]
  },
  {
   "cell_type": "code",
   "execution_count": null,
   "id": "finite-football",
   "metadata": {},
   "outputs": [],
   "source": [
    "import numpy as np\n",
    "\n",
    "class LinearRegression:\n",
    "\n",
    "    def __init__(self, covariates, target):\n",
    "        self.covariates = covariates\n",
    "        self.target = target\n",
    "\n",
    "        self.design_matrix = self.__build_design_matrix(self.covariates)\n",
    "        self.coefficients = self.fit()\n",
    "\n",
    "\n",
    "    def __build_design_matrix(self, raw_input):\n",
    "        \"\"\"\n",
    "        Construye la matriz de diseño añadiendo una columna de unos. \n",
    "\n",
    "        Params\n",
    "        --------\n",
    "          raw_input (np.ndarray):\n",
    "            Un arreglo de numpy de dimensión NxK que se le desea agregar una columna \n",
    "            de unos.\n",
    "\n",
    "        Returns\n",
    "        --------\n",
    "          design_matrix (np.ndarray):\n",
    "            Un arreglo de numpy de dimensión Nx(K+1) que contiene una columna de unos \n",
    "            en la primera posición.\n",
    "        \"\"\"\n",
    "        data_shape = raw_input.shape\n",
    "        ones = np.ones(data_shape[0]).reshape(-1, 1)\n",
    "        design_matrix = np.append(ones, raw_input, axis = 1)\n",
    "        return design_matrix\n",
    "\n",
    "    def fit(self):\n",
    "        \"\"\"\n",
    "        Realiza la estimación de los coeficientes de una regresión lineal.\n",
    "        Bhat = (X'X)^{-1} X'Y\n",
    "        \"\"\"\n",
    "        XTX = np.dot(self.design_matrix.T, self.design_matrix)\n",
    "        inv_XTX = np.linalg.inv(XTX)\n",
    "        XTY = np.dot(self.design_matrix.T, self.target)\n",
    "        b_hat = np.dot(inv_XTX, XTY)\n",
    "        return b_hat \n",
    "\n",
    "\n",
    "    def predict(self, data):\n",
    "        \"\"\"\n",
    "        Realiza la predicción sobre un conjunto de datos.\n",
    "\n",
    "        Params\n",
    "        -------\n",
    "          data (np.ndarray):\n",
    "            Un arreglo de numpy que contiene información de las covariables del modelo\n",
    "\n",
    "        Returns\n",
    "        -------\n",
    "          yhat (np.ndarray):\n",
    "            Un arreglo de numpy que contiene las predicciones\n",
    "        \"\"\"\n",
    "        X = self.__build_design_matrix(data)\n",
    "        y_hat = np.dot(X, self.coefficients)\n",
    "        return y_hat"
   ]
  },
  {
   "cell_type": "markdown",
   "id": "cardiac-reggae",
   "metadata": {},
   "source": [
    "# 4. Aplicación a Precios de Vivienda\n",
    "\n",
    "En esta sección se ilustrará el análisis de regresión utilizando datos del precio de vivienda en Boston. El objetivo es hacer un modelo que permita predecir el valor promedio de un apartamento que pertenezca a esa ciudad. Para llevar esta tarea a cabo, se utilizarán datos los datos de una competencia de Kaggle [link](https://www.kaggle.com/c/boston-housing/data) o directamente desde los Datasets de Sci-Kit Learn. Por cuestiones de replicación utilizaremos la segunda fuente.\n",
    "\n",
    "Para ello se comienza con importar el módulo de datasets de la librería *sci-kit learn*. "
   ]
  },
  {
   "cell_type": "code",
   "execution_count": null,
   "id": "listed-shower",
   "metadata": {},
   "outputs": [],
   "source": [
    "from sklearn import datasets\n",
    "precios_vivienda = datasets.load_boston()\n",
    "\n",
    "print(precios_vivienda.keys())"
   ]
  },
  {
   "cell_type": "markdown",
   "id": "egyptian-waters",
   "metadata": {},
   "source": [
    "La celda anterior muestra que la variable *precios_vivienda* corresponde a un diccionario que contiene los datos explicativos en data y  la variable objetivo en target. Adicionalmente, se puede observar que se tiene información de 13 características para 506 apartamentos de Boston."
   ]
  },
  {
   "cell_type": "code",
   "execution_count": null,
   "id": "african-recruitment",
   "metadata": {},
   "outputs": [],
   "source": [
    "N, k = precios_vivienda.data.shape\n",
    "print(f'Cantidad de Apartamentos: {N}\\nCantidad de Características: {k}')"
   ]
  },
  {
   "cell_type": "markdown",
   "id": "subtle-bulgarian",
   "metadata": {},
   "source": [
    "Las variables que contiene este dataset son, en orden:\n",
    "\n",
    "- **CRIM:**     Tasa de criminalidad per-cátida\n",
    "- **ZN:**       Proporción de predios que superan los 25,000 sq.ft.\n",
    "- **INDUS:**    Proporción de negocios que no son de retail\n",
    "- **CHAS:**     Variable Dummy del Río Charles\n",
    "- **NOX:**      Concentración de Óxio de Nitrógino (partes por 10 millones)\n",
    "- **RM:**       Número promedio de habitaciones\n",
    "- **AGE:**      Proporción de viviendas construídas antes de 1940\n",
    "- **DIS:**      Distancia ponderada a principales centros de trabajo\n",
    "- **RAD:**      Índice de Accesibilidad a autopistas radiales\n",
    "- **TAX:**      Razón de Impuesto por cada 10.000\n",
    "- **PTRATIO:**  Cantidad de estudiantes por profesor en la ciudad\n",
    "- **B:**        $1000(Bk - 0.63)^2$ donde Bk es la proporción de personas de color en el pueblo\n",
    "- **LSTAT:**    % de Población de Estratos Bajos\n",
    "- **MEDV:**     Median value of owner-occupied homes in $1000's\n",
    "\n",
    "Estas pueden ser consultadas corriendo la siguiente sentencia: \n",
    "```python\n",
    "print(precios_vivienda.DESCR)\n",
    "```\n",
    "\n",
    "En principio todas estas variables pueden considerarse relevantes para el modelo, y la inclusión o exclusión de estas se debe hacer utilizando un análisis exploratorio de los datos, junto con criterio experto. Sin embargo, como el objetivo es únicamente ilustrar la utilización de un modelo de regresión lineal, escogeremos tres variables cuyo efecto seguramente es significativo en la determinación del precio de la vivienda. A saber, \n",
    "- CRIM\n",
    "- RM\n",
    "- DIS\n",
    "\n",
    "Antes de plantear el modelo, se revisará si las relaciones existentes entre los precios de la vivienda y las tres variables explicativas son aproximadamente lineales. Para ello se utilizará un diagrama de dispersión. "
   ]
  },
  {
   "cell_type": "code",
   "execution_count": null,
   "id": "intensive-reporter",
   "metadata": {},
   "outputs": [],
   "source": [
    "import matplotlib.pyplot as plt"
   ]
  },
  {
   "cell_type": "code",
   "execution_count": null,
   "id": "palestinian-cross",
   "metadata": {},
   "outputs": [],
   "source": [
    "X = precios_vivienda.data[:, (0, 5, 7)]\n",
    "y = precios_vivienda.target"
   ]
  },
  {
   "cell_type": "code",
   "execution_count": null,
   "id": "incorrect-impact",
   "metadata": {},
   "outputs": [],
   "source": [
    "fig, axs = plt.subplots(3, 1, figsize=(10,10))\n",
    "axs[0].scatter(x = X[:, 0], y = y)\n",
    "axs[1].scatter(x = X[:, 1], y = y)\n",
    "axs[2].scatter(x = X[:, 2], y = y)\n",
    "\n",
    "axs[0].set_xlabel('Tasa de Criminalidad')\n",
    "axs[1].set_xlabel('Número de Habitaciones')\n",
    "axs[2].set_xlabel('Distancia a Centros de Trabajo')\n",
    "\n",
    "axs[0].set_ylabel('Precio de Medio de Vivienda')\n",
    "axs[1].set_ylabel('Precio de Medio de Vivienda')\n",
    "axs[2].set_ylabel('Precio de Medio de Vivienda')\n",
    "\n",
    "plt.show()"
   ]
  },
  {
   "cell_type": "markdown",
   "id": "specific-story",
   "metadata": {},
   "source": [
    "Del gráfico anterior se puede observar que los precios de vivienda tienen una relación lineal clara con el número de habitaciones de las viviendas. De esta forma, un mayor número de habitaciones disponibles en la vivienda trae consigo un mayor valor. \n",
    "\n",
    "De manera similar se encuentra que la relación entre el precio de vivienda y la tasa de criminalidad es aproximadamente lineal. Es importante resaltar que las zonas que tienen tasa de criminalidad cercana a cero, tienen todos los rangos de precios. \n",
    "\n",
    "Finalmente, se puede observar que la relación entre la distancia a los centros de trabajo y el precio de la vivienda no parece ser lineal sino mas bien logarítimica. Por esta razón, se realiza nuevamente el gráfico pero con esta variable transformada."
   ]
  },
  {
   "cell_type": "code",
   "execution_count": null,
   "id": "abstract-tractor",
   "metadata": {},
   "outputs": [],
   "source": [
    "X[:, 2] = np.log(X[:, 2])"
   ]
  },
  {
   "cell_type": "code",
   "execution_count": null,
   "id": "weekly-angle",
   "metadata": {},
   "outputs": [],
   "source": [
    "fig = plt.figure(figsize=(10,3))\n",
    "plt.scatter(x = X[:, 2], y = y)\n",
    "plt.xlabel('Logaritmo de la Distancia a Centros de Trabajo')\n",
    "plt.ylabel('Precio de Medio de Vivienda')\n",
    "plt.show()"
   ]
  },
  {
   "cell_type": "markdown",
   "id": "controlled-crisis",
   "metadata": {},
   "source": [
    "Con base a lo anterior, se plantea el siguiente modelo de regresión para la predicción de precios de vivienda. \n",
    "$$precio_i = \\beta_0 + \\beta_1 CRIM_i + \\beta_2 RM_i + \\beta_3 log(DIS_i) + \\varepsilon_i$$\n",
    "\n",
    "donde $precio_i$ es el precio de la $i$-ésima vivienda en Boston, $CRIM_i$ es la tasa de criminalidad per-cátipa al rededor de esta vivienda, $RM_i$ es la cantidad de habitaciones con la que cuenta la vivienda, y $log(DIS_i)$ es el logaritmo de la distancia entre la vivienda y los principales centros de trabajo de Boston. $\\varepsilon_i$ es el término de perturbación.\n",
    "\n",
    "Del total de la muestra se tomará el 80% de las observaciones al azar para utilizarlas como base de entrenamiento. El 20% restante será utilizado como base de prueba para determinar la capacidad predictiva del modelo. \n"
   ]
  },
  {
   "cell_type": "code",
   "execution_count": null,
   "id": "excess-justice",
   "metadata": {},
   "outputs": [],
   "source": [
    "from sklearn.model_selection import train_test_split\n",
    "X_train, X_test, y_train, y_test = train_test_split(X, y, test_size=0.2, random_state=42)"
   ]
  },
  {
   "cell_type": "markdown",
   "id": "outer-stress",
   "metadata": {},
   "source": [
    "A continuación utilizaremos la clase **LinearRegression** que se construyó anteriormente. Al instanciar la clase con los datos de entrenamiento, se estimará el modelo de regresión determinando los coeficientes para cada una de las variables escogidas."
   ]
  },
  {
   "cell_type": "code",
   "execution_count": null,
   "id": "finnish-support",
   "metadata": {},
   "outputs": [],
   "source": [
    "model = LinearRegression(X_train, y_train)\n",
    "model.coefficients"
   ]
  },
  {
   "cell_type": "markdown",
   "id": "greek-prime",
   "metadata": {},
   "source": [
    "Lo anterior indica que el modelo estimado para realizar la predicción de los precios de vivienda corresponde a\n",
    "\n",
    "$$\\widehat{precio}_i = -31.18 + -0.26 CRIM_i + 8.69 RM_i + 0.00301 log(DIS_i)$$\n",
    "\n",
    "A continuación, se utilizará este modelo para predecir el precio de las viviendas que están en la base de prueba. Posteriormente se realizará un análisis de la predicción para conocer el desempeño del modelo."
   ]
  },
  {
   "cell_type": "code",
   "execution_count": null,
   "id": "concerned-compilation",
   "metadata": {},
   "outputs": [],
   "source": [
    "y_hat = model.predict(X_test)"
   ]
  },
  {
   "cell_type": "markdown",
   "id": "unnecessary-causing",
   "metadata": {},
   "source": [
    "El siguiente gráfico presenta un diagrama de dispersión entre los verdaderos precios de vivienda para las unidades de prueba, y la predicción del modelo. Entre más cerca estén los puntos a la línea negra, mejor es la calidad de la predicción, pues se parecen más al dato de verdad. "
   ]
  },
  {
   "cell_type": "code",
   "execution_count": null,
   "id": "variable-voltage",
   "metadata": {},
   "outputs": [],
   "source": [
    "fig = plt.figure(figsize=(10,3))\n",
    "plt.scatter(x = y_hat, y = y_test)\n",
    "\n",
    "plt.plot((0, 50), (0, 50), color = 'k')\n",
    "\n",
    "\n",
    "plt.xlabel('Predicciones')\n",
    "plt.ylabel('Valor Real')\n",
    "plt.show()"
   ]
  },
  {
   "cell_type": "markdown",
   "id": "administrative-visibility",
   "metadata": {},
   "source": [
    "Se puede observar que el modelo logra capturar el fenómeno y es capaz de predecir relativamente bien los precios de vivienda de la mayoría de las unidades. Sin embargo, debido a su forma funcional, el modelo es capaz de hacer predicciones de precio negativa, exhibiendo así una debilidad importante. \n",
    "\n",
    "A continuación, se resume el resultado del modelo utilizando el error cuadrático medio (MSE). Esta cantidad viene dada por\n",
    "\n",
    "$$MSE = \\frac{1}{N} \\sum_{i = 1}^N (y_i - \\hat{y}_i)^2.$$\n"
   ]
  },
  {
   "cell_type": "code",
   "execution_count": null,
   "id": "genuine-highland",
   "metadata": {},
   "outputs": [],
   "source": [
    "def MSE(y_true, y_pred):\n",
    "    N = y_true.shape[0]\n",
    "    diff = (y_true - y_pred)**2\n",
    "    ssr = diff.sum()\n",
    "    return ssr/N\n",
    "\n",
    "MSE(y_test, y_hat)"
   ]
  },
  {
   "cell_type": "markdown",
   "id": "beginning-doubt",
   "metadata": {},
   "source": [
    "Con el MSE se puede determinar la variabilidad del modelo y determinar qué tan cercanas son sus predicciones a los valores de verdad. El MSE es útil para comparar diferentes modelos que quieran predecir la misma variable. De esta forma, si se tiene otro candidato de modelo cuyo MSE es inferior, se preferirá el segundo frente el aquí desarrollado."
   ]
  },
  {
   "cell_type": "markdown",
   "id": "friendly-notion",
   "metadata": {},
   "source": [
    "## 5. Conclusiones"
   ]
  },
  {
   "cell_type": "markdown",
   "id": "distributed-zimbabwe",
   "metadata": {},
   "source": [
    "## 6. Referencias\n",
    "\n",
    "Gujarati, D. N., & Porter, D. C. (1999). *Essentials of econometrics (Vol. 2)*. Singapore: Irwin/McGraw-Hill."
   ]
  },
  {
   "cell_type": "code",
   "execution_count": null,
   "id": "lonely-agent",
   "metadata": {},
   "outputs": [],
   "source": []
  }
 ],
 "metadata": {
  "kernelspec": {
   "display_name": "Python 3",
   "language": "python",
   "name": "python3"
  },
  "language_info": {
   "codemirror_mode": {
    "name": "ipython",
    "version": 3
   },
   "file_extension": ".py",
   "mimetype": "text/x-python",
   "name": "python",
   "nbconvert_exporter": "python",
   "pygments_lexer": "ipython3",
   "version": "3.8.5"
  }
 },
 "nbformat": 4,
 "nbformat_minor": 5
}
